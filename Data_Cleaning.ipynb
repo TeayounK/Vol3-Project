{
 "cells": [
  {
   "cell_type": "code",
   "execution_count": 2,
   "metadata": {},
   "outputs": [],
   "source": [
    "import numpy as np\n",
    "import pandas as pd"
   ]
  },
  {
   "cell_type": "code",
   "execution_count": 3,
   "metadata": {},
   "outputs": [],
   "source": [
    "# Load data\n",
    "Data = pd.read_csv(\"Life Expectancy Data.csv\")\n",
    "# Grab column names\n",
    "cols = Data.columns"
   ]
  },
  {
   "cell_type": "code",
   "execution_count": 4,
   "metadata": {},
   "outputs": [
    {
     "data": {
      "text/plain": [
       "Country                            0.000000\n",
       "Year                               0.000000\n",
       "Status                             0.000000\n",
       "Life expectancy                    0.003404\n",
       "Adult Mortality                    0.003404\n",
       "infant deaths                      0.000000\n",
       "Alcohol                            0.066031\n",
       "percentage expenditure             0.000000\n",
       "Hepatitis B                        0.188223\n",
       "Measles                            0.000000\n",
       " BMI                               0.011572\n",
       "under-five deaths                  0.000000\n",
       "Polio                              0.006467\n",
       "Total expenditure                  0.076923\n",
       "Diphtheria                         0.006467\n",
       " HIV/AIDS                          0.000000\n",
       "GDP                                0.152485\n",
       "Population                         0.221920\n",
       " thinness  1-19 years              0.011572\n",
       " thinness 5-9 years                0.011572\n",
       "Income composition of resources    0.056841\n",
       "Schooling                          0.055480\n",
       "dtype: float64"
      ]
     },
     "execution_count": 4,
     "metadata": {},
     "output_type": "execute_result"
    }
   ],
   "source": [
    "# Check the percentage of None data for each colume\n",
    "Data.isna().sum()/len(Data)\n",
    "# We have a bunch of missing data to deal with!"
   ]
  },
  {
   "cell_type": "code",
   "execution_count": 5,
   "metadata": {},
   "outputs": [],
   "source": [
    "# Drop rows that has no \"life expectancy\" value since very few are missing it, \n",
    "# and it is the most important value to have for our analysis\n",
    "Data = Data[~Data[\"Life expectancy \"].isna()]\n",
    "\n",
    "# Also drop rows that are missing values in cloumns with more than 95% of the values \n",
    "non_perc = (Data.isna().sum()/len(Data)).values\n",
    "less5Cols = non_perc < 0.05\n",
    "for col in cols[less5Cols]:\n",
    "    if Data[col].isna().sum()/len(Data) > 1e-3:\n",
    "        Data = Data[~Data[col].isna()]"
   ]
  },
  {
   "cell_type": "code",
   "execution_count": 6,
   "metadata": {},
   "outputs": [
    {
     "name": "stderr",
     "output_type": "stream",
     "text": [
      "C:\\Users\\danie\\AppData\\Local\\Temp\\ipykernel_17592\\4202270222.py:3: FutureWarning: Downcasting behavior in `replace` is deprecated and will be removed in a future version. To retain the old behavior, explicitly call `result.infer_objects(copy=False)`. To opt-in to the future behavior, set `pd.set_option('future.no_silent_downcasting', True)`\n",
      "  Data = Data.replace(\"Developed\", True)\n"
     ]
    }
   ],
   "source": [
    "# replace Developing/Developed column with boolean values\n",
    "Data = Data.replace(\"Developing\", False)\n",
    "Data = Data.replace(\"Developed\", True)"
   ]
  },
  {
   "cell_type": "code",
   "execution_count": 7,
   "metadata": {},
   "outputs": [],
   "source": [
    "# Fix the bad indexing created by dropping rows\n",
    "Data = Data.reset_index()\n",
    "Data.drop('index', axis=1, inplace=True)\n",
    "# Find all the columns that still have missing values\n",
    "non_perc = (Data.isna().sum()/len(Data)).values\n",
    "ColsWithNone = non_perc > 0\n",
    "new_Data = Data.copy()\n",
    "# Get average values for each column by country\n",
    "country_avgs = Data.groupby(\"Country\").mean()\n",
    "# If every entry in a column for a country is missing, fill them all with the mean in that column from every country\n",
    "for col in country_avgs.columns:\n",
    "    country_avgs.fillna({col : country_avgs[col].mean()}, inplace=True)\n",
    "# Fill every missing value with the country's average.\n",
    "for col in cols[ColsWithNone]:\n",
    "    # Get the row of values we should be filling with\n",
    "    avgs = country_avgs[col]\n",
    "    # Go through missing values and replace with the value from the country's average\n",
    "    indx = Data[col].isna()\n",
    "    for i in np.where(indx)[0]:\n",
    "        new_Data.loc[i,col] = avgs[Data[\"Country\"][i]]"
   ]
  },
  {
   "cell_type": "code",
   "execution_count": 8,
   "metadata": {},
   "outputs": [],
   "source": [
    "# Save the cleaned data\n",
    "new_Data.to_csv(\"Life Expectancy Data Cleaned.csv\")"
   ]
  }
 ],
 "metadata": {
  "kernelspec": {
   "display_name": "Python 3 (ipykernel)",
   "language": "python",
   "name": "python3"
  },
  "language_info": {
   "codemirror_mode": {
    "name": "ipython",
    "version": 3
   },
   "file_extension": ".py",
   "mimetype": "text/x-python",
   "name": "python",
   "nbconvert_exporter": "python",
   "pygments_lexer": "ipython3",
   "version": "3.11.1"
  }
 },
 "nbformat": 4,
 "nbformat_minor": 4
}
