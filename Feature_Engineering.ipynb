{
 "cells": [
  {
   "cell_type": "code",
   "execution_count": 31,
   "id": "ce8634bf-f350-4647-bab2-f4ca390c8456",
   "metadata": {},
   "outputs": [],
   "source": [
    "import numpy as np\n",
    "import pandas as pd"
   ]
  },
  {
   "cell_type": "code",
   "execution_count": 32,
   "id": "cf6ef8dc-b572-4934-9985-180b40b9265a",
   "metadata": {},
   "outputs": [],
   "source": [
    "# Reads the Cleaned Data\n",
    "Data = pd.read_csv(\"Life-Expectancy-Data-Updated.csv\")\n",
    "# Replaces Turkiye with Turkey\n",
    "Data = Data.replace(\"Turkiye\", \"Turkey\")"
   ]
  },
  {
   "cell_type": "code",
   "execution_count": null,
   "id": "191b8bce-6253-4b52-8a76-4cd85a357cb9",
   "metadata": {},
   "outputs": [],
   "source": [
    "# Sets up information for new feature\n",
    "np.linspace(2000, 2015, 16)\n",
    "Universal_Countries = [\"Albania\", \"Algeria\", \"Argentina\", \"Australia\", \"Austria\", \"Bahamas, The\", \"Bahrain\",\n",
    "                       \"Belgium\", \"Bhutan\", \"Botswana\", \"Brazil\", \"Brunei Darussalam\", \"Bulgaria\", \"Burkina Faso\",\n",
    "                       \"Canada\", \"China\", \"Colombia\", \"Costa Rica\", \"Croatia\", \"Cuba\", \"Cyprus\", \"Czechia\",\n",
    "                       \"Denmark\", \"Finland\", \"France\", \"Georgia\", \"Germany\", \"Ghana\", \"Greece\",\n",
    "                       \"Iceland\", \"India\", \"Indonesia\", \"Israel\", \"Italy\", \"Japan\", \"Kuwait\",\n",
    "                       \"Luxembourg\", \"Malaysia\", \"Maldives\", \"Mauritius\", \"Mexico\",\n",
    "                       \"Morocco\", \"Netherlands\", \"New Zealand\", \"Norway\", \"Pakistan\", \"Peru\",\n",
    "                       \"Philippines\", \"Portugal\", \"Romania\", \"Russian Federation\", \"Rwanda\", \"Saudi Arabia\", \"Serbia\",\n",
    "                       \"Seychelles\", \"Singapore\", \"Slovenia\", \"South Africa\", \"Spain\", \"Sri Lanka\",\n",
    "                       \"Suriname\", \"Sweden\", \"Switzerland\", \"Thailand\", \"Trinidad and Tobago\", \"Tunisia\",\n",
    "                       \"Turkey\", \"United Arab Emirates\", \"United Kingdom\"]\n",
    "# These countries change whether they have universal heathcare during the years in the data\n",
    "Special_country = ['Georgia', 'Ghana', 'Indonesia', \"Suriname\"]\n",
    "georgia = [2013, 2014, 2015]\n",
    "ghana = np.linspace(2003, 2015, 13)\n",
    "indonesia = [2014, 2015]\n",
    "suriname = [2014, 2015]"
   ]
  },
  {
   "cell_type": "code",
   "execution_count": null,
   "id": "d058e2ec-988b-4cb2-b70f-c7785b16c11e",
   "metadata": {},
   "outputs": [],
   "source": [
    "# Verify names match\n",
    "missing = []\n",
    "countries = np.array(Data[\"Country\"].unique())\n",
    "for i in range(len(Universal_Countries)):\n",
    "    same = False\n",
    "    for j in range(len(countries)):\n",
    "        if Universal_Countries[i] == countries[j]:\n",
    "            same = True\n",
    "    if same == False:\n",
    "        missing.append(Universal_Countries[i])"
   ]
  },
  {
   "cell_type": "code",
   "execution_count": null,
   "id": "cf08f979-5217-4b5d-acd2-99773e2ba3f8",
   "metadata": {},
   "outputs": [],
   "source": [
    "# Helper function for putting in universal health insurance values\n",
    "def univers_count (country_year):\n",
    "    # Takes in a list of [country, year]\n",
    "    # Returns whether the country has universal healthcare in the given year\n",
    "\n",
    "    # For the countries that change, do specific if statements\n",
    "    if country_year[0] == \"Georgia\":\n",
    "        if country_year[1] in georgia:\n",
    "            return True\n",
    "        else:\n",
    "            return False\n",
    "    elif country_year[0] == \"Ghana\":\n",
    "        if country_year[1] in ghana:\n",
    "            return True\n",
    "        else:\n",
    "            return False\n",
    "\n",
    "    elif country_year[0] == \"Indonesia\":\n",
    "        if country_year[1] in indonesia:\n",
    "            return True\n",
    "        else:\n",
    "            return False\n",
    "\n",
    "    elif country_year[0] == \"Suriname\":\n",
    "        if country_year[1] in suriname:\n",
    "            return True\n",
    "        else:\n",
    "            return False\n",
    "        \n",
    "    # Otherwise, return true or false based on whether the country is in the list of countries that always have universal healthcare \n",
    "    elif country_year[0] in Universal_Countries:\n",
    "        return True\n",
    "    else:\n",
    "        return False"
   ]
  },
  {
   "cell_type": "code",
   "execution_count": null,
   "id": "6ed28661-2b83-4567-9381-e34aa5620809",
   "metadata": {},
   "outputs": [],
   "source": [
    "# Add a column to data to store universal healthcare values\n",
    "country_year = Data.loc[:, ['Country', 'Year']].values\n",
    "uni_count = [univers_count(i) for i in country_year]\n",
    "Data[\"Universal_Insurance\"] = uni_count"
   ]
  },
  {
   "cell_type": "code",
   "execution_count": 39,
   "id": "285e44e3-ae9a-4c2c-868a-5491aff04637",
   "metadata": {},
   "outputs": [],
   "source": [
    "# Save the cleaned data\n",
    "Data.to_csv(\"Life Expectancy Data Cleaned With Insurance.csv\")"
   ]
  },
  {
   "cell_type": "code",
   "execution_count": null,
   "id": "9f582557-58f1-4362-a5e4-2acf1d5357a3",
   "metadata": {},
   "outputs": [],
   "source": []
  }
 ],
 "metadata": {
  "kernelspec": {
   "display_name": "Python 3 (ipykernel)",
   "language": "python",
   "name": "python3"
  },
  "language_info": {
   "codemirror_mode": {
    "name": "ipython",
    "version": 3
   },
   "file_extension": ".py",
   "mimetype": "text/x-python",
   "name": "python",
   "nbconvert_exporter": "python",
   "pygments_lexer": "ipython3",
   "version": "3.12.7"
  }
 },
 "nbformat": 4,
 "nbformat_minor": 5
}
