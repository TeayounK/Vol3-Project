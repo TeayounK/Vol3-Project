{
 "cells": [
  {
   "cell_type": "code",
   "execution_count": 31,
   "id": "ce8634bf-f350-4647-bab2-f4ca390c8456",
   "metadata": {},
   "outputs": [],
   "source": [
    "import numpy as np\n",
    "import pandas as pd"
   ]
  },
  {
   "cell_type": "code",
   "execution_count": 32,
   "id": "cf6ef8dc-b572-4934-9985-180b40b9265a",
   "metadata": {},
   "outputs": [],
   "source": [
    "# Reads the Cleaned Data\n",
    "Data = pd.read_csv(\"Life-Expectancy-Data-Updated.csv\")\n",
    "# Replaces Turkiye with Turkey\n",
    "Data = Data.replace(\"Turkiye\", \"Turkey\")"
   ]
  },
  {
   "cell_type": "code",
   "execution_count": 33,
   "id": "191b8bce-6253-4b52-8a76-4cd85a357cb9",
   "metadata": {},
   "outputs": [],
   "source": [
    "# Sets up information for new feature\n",
    "np.linspace(2000, 2015, 16)\n",
    "Universal_Countries = [\"Albania\", \"Algeria\", \"Argentina\", \"Australia\", \"Austria\", \"Bahamas, The\", \"Bahrain\",\n",
    "                       \"Belgium\", \"Bhutan\", \"Botswana\", \"Brazil\", \"Brunei Darussalam\", \"Bulgaria\", \"Burkina Faso\",\n",
    "                       \"Canada\", \"China\", \"Colombia\", \"Costa Rica\", \"Croatia\", \"Cuba\", \"Cyprus\", \"Czechia\",\n",
    "                       \"Denmark\", \"Finland\", \"France\", \"Georgia\", \"Germany\", \"Ghana\", \"Greece\",\n",
    "                       \"Iceland\", \"India\", \"Indonesia\", \"Israel\", \"Italy\", \"Japan\", \"Kuwait\",\n",
    "                       \"Luxembourg\", \"Malaysia\", \"Maldives\", \"Mauritius\", \"Mexico\",\n",
    "                       \"Morocco\", \"Netherlands\", \"New Zealand\", \"Norway\", \"Pakistan\", \"Peru\",\n",
    "                       \"Philippines\", \"Portugal\", \"Romania\", \"Russian Federation\", \"Rwanda\", \"Saudi Arabia\", \"Serbia\",\n",
    "                       \"Seychelles\", \"Singapore\", \"Slovenia\", \"South Africa\", \"Spain\", \"Sri Lanka\",\n",
    "                       \"Suriname\", \"Sweden\", \"Switzerland\", \"Thailand\", \"Trinidad and Tobago\", \"Tunisia\",\n",
    "                       \"Turkey\", \"United Arab Emirates\", \"United Kingdom\"]\n",
    "Special_country = ['Georgia', 'Ghana', 'Indonesia', \"Suriname\"]\n",
    "georgia = [2013, 2014, 2015]\n",
    "ghana = np.linspace(2003, 2015, 13)\n",
    "indonesia = [2014, 2015]\n",
    "suriname = [2014, 2015]"
   ]
  },
  {
   "cell_type": "code",
   "execution_count": 34,
   "id": "d058e2ec-988b-4cb2-b70f-c7785b16c11e",
   "metadata": {},
   "outputs": [],
   "source": [
    "# Makes sure the data matches up nicely\n",
    "missing = []\n",
    "countries = np.array(Data[\"Country\"].unique())\n",
    "for i in range(len(Universal_Countries)):\n",
    "    same = False\n",
    "    for j in range(len(countries)):\n",
    "        if Universal_Countries[i] == countries[j]:\n",
    "            same = True\n",
    "    if same == False:\n",
    "        missing.append(Universal_Countries[i])"
   ]
  },
  {
   "cell_type": "code",
   "execution_count": 35,
   "id": "cf08f979-5217-4b5d-acd2-99773e2ba3f8",
   "metadata": {},
   "outputs": [],
   "source": [
    "def univers_count (country_year):\n",
    "    if country_year[0] == \"Georgia\":\n",
    "        if country_year[1] in georgia:\n",
    "            return True\n",
    "        else:\n",
    "            return False\n",
    "    elif country_year[0] == \"Ghana\":\n",
    "        if country_year[1] in ghana:\n",
    "            return True\n",
    "        else:\n",
    "            return False\n",
    "\n",
    "    elif country_year[0] == \"Indonesia\":\n",
    "        if country_year[1] in indonesia:\n",
    "            return True\n",
    "        else:\n",
    "            return False\n",
    "\n",
    "    elif country_year[0] == \"Suriname\":\n",
    "        if country_year[1] in suriname:\n",
    "            return True\n",
    "        else:\n",
    "            return False\n",
    "        \n",
    "    elif country_year[0] in Universal_Countries:\n",
    "        return True\n",
    "    else:\n",
    "        return False"
   ]
  },
  {
   "cell_type": "code",
   "execution_count": 36,
   "id": "6ed28661-2b83-4567-9381-e34aa5620809",
   "metadata": {},
   "outputs": [],
   "source": [
    "country_year = Data.loc[:, ['Country', 'Year']].values\n",
    "uni_count = [univers_count(i) for i in country_year]\n",
    "Data[\"Universal_Insurance\"] = uni_count\n",
    "\n",
    "# subset = Data['Country'] == \"Turkey\"\n",
    "# Data[subset][\"Universal_Insurance\"] = Data[subset][\"Universal_Insurance\"].replace(False, True)\n",
    "# print(Data[subset][\"Universal_Insurance\"])"
   ]
  },
  {
   "cell_type": "code",
   "execution_count": 37,
   "id": "507804cb-0163-458b-8fb2-f3be63fd1b8a",
   "metadata": {},
   "outputs": [
    {
     "name": "stdout",
     "output_type": "stream",
     "text": [
      "        Country          Region  Year  Infant_deaths  Under_five_deaths  \\\n",
      "0        Turkey     Middle East  2015           11.1               13.0   \n",
      "1         Spain  European Union  2015            2.7                3.3   \n",
      "2         India            Asia  2007           51.5               67.9   \n",
      "3        Guyana   South America  2006           32.8               40.5   \n",
      "4        Israel     Middle East  2012            3.4                4.3   \n",
      "...         ...             ...   ...            ...                ...   \n",
      "2859      Niger          Africa  2000           97.0              224.9   \n",
      "2860   Mongolia            Asia  2009           23.9               28.6   \n",
      "2861  Sri Lanka            Asia  2004           17.7               28.9   \n",
      "2862  Lithuania  European Union  2002            7.9                9.9   \n",
      "2863    Iceland  Rest of Europe  2011            2.1                2.6   \n",
      "\n",
      "      Adult_mortality  Alcohol_consumption  Hepatitis_B  Measles   BMI  ...  \\\n",
      "0            105.8240                1.320           97       65  27.8  ...   \n",
      "1             57.9025               10.350           97       94  26.0  ...   \n",
      "2            201.0765                1.570           60       35  21.2  ...   \n",
      "3            222.1965                5.680           93       74  25.3  ...   \n",
      "4             57.9510                2.890           97       89  27.0  ...   \n",
      "...               ...                  ...          ...      ...   ...  ...   \n",
      "2859         291.8240                0.092           72       64  20.8  ...   \n",
      "2860         235.2330                6.560           97       97  25.3  ...   \n",
      "2861         134.8950                1.560           62       95  21.9  ...   \n",
      "2862         204.0120               11.000           94       95  26.1  ...   \n",
      "2863          50.5745                6.840           88       90  26.1  ...   \n",
      "\n",
      "      Incidents_HIV  GDP_per_capita  Population_mln  \\\n",
      "0              0.08           11006           78.53   \n",
      "1              0.09           25742           46.44   \n",
      "2              0.13            1076         1183.21   \n",
      "3              0.79            4146            0.75   \n",
      "4              0.08           33995            7.91   \n",
      "...             ...             ...             ...   \n",
      "2859           0.49             399           11.33   \n",
      "2860           0.02            2515            2.67   \n",
      "2861           0.02            2130           19.39   \n",
      "2862           0.05            7424            3.44   \n",
      "2863           0.05           48934            0.32   \n",
      "\n",
      "      Thinness_ten_nineteen_years  Thinness_five_nine_years  Schooling  \\\n",
      "0                             4.9                       4.8        7.8   \n",
      "1                             0.6                       0.5        9.7   \n",
      "2                            27.1                      28.0        5.0   \n",
      "3                             5.7                       5.5        7.9   \n",
      "4                             1.2                       1.1       12.8   \n",
      "...                           ...                       ...        ...   \n",
      "2859                         12.8                      12.9        1.1   \n",
      "2860                          2.2                       2.3        9.1   \n",
      "2861                         15.4                      15.5       10.3   \n",
      "2862                          3.3                       3.3       11.1   \n",
      "2863                          0.9                       0.9       11.0   \n",
      "\n",
      "      Economy_status_Developed  Economy_status_Developing  Life_expectancy  \\\n",
      "0                            0                          1             76.5   \n",
      "1                            1                          0             82.8   \n",
      "2                            0                          1             65.4   \n",
      "3                            0                          1             67.0   \n",
      "4                            1                          0             81.7   \n",
      "...                        ...                        ...              ...   \n",
      "2859                         0                          1             49.9   \n",
      "2860                         0                          1             66.9   \n",
      "2861                         0                          1             74.3   \n",
      "2862                         1                          0             71.8   \n",
      "2863                         1                          0             82.4   \n",
      "\n",
      "      Universal_Insurance  \n",
      "0                    True  \n",
      "1                    True  \n",
      "2                    True  \n",
      "3                   False  \n",
      "4                    True  \n",
      "...                   ...  \n",
      "2859                False  \n",
      "2860                False  \n",
      "2861                 True  \n",
      "2862                False  \n",
      "2863                 True  \n",
      "\n",
      "[2864 rows x 22 columns]\n"
     ]
    }
   ],
   "source": [
    "print(Data)"
   ]
  },
  {
   "cell_type": "code",
   "execution_count": 39,
   "id": "285e44e3-ae9a-4c2c-868a-5491aff04637",
   "metadata": {},
   "outputs": [],
   "source": [
    "# Save the cleaned data\n",
    "Data.to_csv(\"Life Expectancy Data Cleaned With Insurance.csv\")"
   ]
  },
  {
   "cell_type": "code",
   "execution_count": null,
   "id": "9f582557-58f1-4362-a5e4-2acf1d5357a3",
   "metadata": {},
   "outputs": [],
   "source": []
  }
 ],
 "metadata": {
  "kernelspec": {
   "display_name": "Python 3 (ipykernel)",
   "language": "python",
   "name": "python3"
  },
  "language_info": {
   "codemirror_mode": {
    "name": "ipython",
    "version": 3
   },
   "file_extension": ".py",
   "mimetype": "text/x-python",
   "name": "python",
   "nbconvert_exporter": "python",
   "pygments_lexer": "ipython3",
   "version": "3.12.7"
  }
 },
 "nbformat": 4,
 "nbformat_minor": 5
}
