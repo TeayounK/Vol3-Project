{
 "cells": [
  {
   "cell_type": "code",
   "execution_count": 1,
   "id": "ce8634bf-f350-4647-bab2-f4ca390c8456",
   "metadata": {},
   "outputs": [],
   "source": [
    "import numpy as np\n",
    "import pandas as pd"
   ]
  },
  {
   "cell_type": "code",
   "execution_count": 42,
   "id": "cf6ef8dc-b572-4934-9985-180b40b9265a",
   "metadata": {},
   "outputs": [],
   "source": [
    "# Reads the Cleaned Data\n",
    "Data = pd.read_csv(\"Life-Expectancy-Data-Updated.csv\")\n",
    "# Replaces Turkiye with Turkey\n",
    "Data = Data.replace(\"Turkiye\", \"Turkey\")"
   ]
  },
  {
   "cell_type": "code",
   "execution_count": 43,
   "id": "191b8bce-6253-4b52-8a76-4cd85a357cb9",
   "metadata": {},
   "outputs": [],
   "source": [
    "# Sets up information for new feature\n",
    "np.linspace(2000, 2015, 16)\n",
    "Universal_Countries = [\"Albania\", \"Algeria\", \"Argentina\", \"Australia\", \"Austria\", \"Bahamas, The\", \"Bahrain\",\n",
    "                       \"Belgium\", \"Bhutan\", \"Botswana\", \"Brazil\", \"Brunei Darussalam\", \"Bulgaria\", \"Burkina Faso\",\n",
    "                       \"Canada\", \"China\", \"Colombia\", \"Costa Rica\", \"Croatia\", \"Cuba\", \"Cyprus\", \"Czechia\",\n",
    "                       \"Denmark\", \"Finland\", \"France\", \"Georgia\", \"Germany\", \"Ghana\", \"Greece\",\n",
    "                       \"Iceland\", \"India\", \"Indonesia\", \"Israel\", \"Italy\", \"Japan\", \"Kuwait\",\n",
    "                       \"Luxembourg\", \"Malaysia\", \"Maldives\", \"Mauritius\", \"Mexico\",\n",
    "                       \"Morocco\", \"Netherlands\", \"New Zealand\", \"Norway\", \"Pakistan\", \"Peru\",\n",
    "                       \"Philippines\", \"Portugal\", \"Romania\", \"Russian Federation\", \"Rwanda\", \"Saudi Arabia\", \"Serbia\",\n",
    "                       \"Seychelles\", \"Singapore\", \"Slovenia\", \"South Africa\", \"Spain\", \"Sri Lanka\",\n",
    "                       \"Suriname\", \"Sweden\", \"Switzerland\", \"Thailand\", \"Trinidad and Tobago\", \"Tunisia\",\n",
    "                       \"Turkey\", \"United Arab Emirates\", \"United Kingdom\"]\n",
    "Special_country = ['Georgia', 'Ghana', 'Indonesia', \"Suriname\"]\n",
    "georgia = [2013, 2014, 2015]\n",
    "ghana = np.linspace(2003, 2015, 13)\n",
    "indonesia = [2014, 2015]\n",
    "suriname = [2014, 2015]"
   ]
  },
  {
   "cell_type": "code",
   "execution_count": null,
   "id": "9dfbca3a-3ae4-482e-b46f-553dbce2c828",
   "metadata": {},
   "outputs": [],
   "source": []
  },
  {
   "cell_type": "code",
   "execution_count": 56,
   "id": "d058e2ec-988b-4cb2-b70f-c7785b16c11e",
   "metadata": {},
   "outputs": [
    {
     "name": "stdout",
     "output_type": "stream",
     "text": [
      "[]\n"
     ]
    }
   ],
   "source": [
    "# Makes sure the data matches up nicely\n",
    "missing = []\n",
    "countries = np.array(Data[\"Country\"].unique())\n",
    "for i in range(len(Universal_Countries)):\n",
    "    same = False\n",
    "    for j in range(len(countries)):\n",
    "        if Universal_Countries[i] == countries[j]:\n",
    "            same = True\n",
    "    if same == False:\n",
    "        missing.append(Universal_Countries[i])\n",
    "Data[\"Universal_Insurance\"] = False"
   ]
  },
  {
   "cell_type": "code",
   "execution_count": 69,
   "id": "6ed28661-2b83-4567-9381-e34aa5620809",
   "metadata": {},
   "outputs": [
    {
     "name": "stdout",
     "output_type": "stream",
     "text": [
      "[['Turkey' 2015]\n",
      " ['Spain' 2015]\n",
      " ['India' 2007]\n",
      " ...\n",
      " ['Sri Lanka' 2004]\n",
      " ['Lithuania' 2002]\n",
      " ['Iceland' 2011]]\n"
     ]
    }
   ],
   "source": [
    "print(Data.loc[:, ['Country', 'Year']].values)\n",
    "\n",
    "# subset = Data['Country'] == \"Turkey\"\n",
    "# Data[subset][\"Universal_Insurance\"] = Data[subset][\"Universal_Insurance\"].replace(False, True)\n",
    "# print(Data[subset][\"Universal_Insurance\"])"
   ]
  },
  {
   "cell_type": "code",
   "execution_count": null,
   "id": "507804cb-0163-458b-8fb2-f3be63fd1b8a",
   "metadata": {},
   "outputs": [],
   "source": []
  }
 ],
 "metadata": {
  "kernelspec": {
   "display_name": "Python 3 (ipykernel)",
   "language": "python",
   "name": "python3"
  },
  "language_info": {
   "codemirror_mode": {
    "name": "ipython",
    "version": 3
   },
   "file_extension": ".py",
   "mimetype": "text/x-python",
   "name": "python",
   "nbconvert_exporter": "python",
   "pygments_lexer": "ipython3",
   "version": "3.12.7"
  }
 },
 "nbformat": 4,
 "nbformat_minor": 5
}
