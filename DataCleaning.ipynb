{
 "cells": [
  {
   "cell_type": "code",
   "execution_count": 1,
   "metadata": {},
   "outputs": [],
   "source": [
    "import numpy as np\n",
    "from matplotlib import pyplot as plt\n",
    "import pandas as pd"
   ]
  },
  {
   "cell_type": "code",
   "execution_count": 2,
   "metadata": {},
   "outputs": [
    {
     "name": "stdout",
     "output_type": "stream",
     "text": [
      "Index(['Country', 'Year', 'Status', 'Life expectancy ', 'Adult Mortality',\n",
      "       'infant deaths', 'Alcohol', 'percentage expenditure', 'Hepatitis B',\n",
      "       'Measles ', ' BMI ', 'under-five deaths ', 'Polio', 'Total expenditure',\n",
      "       'Diphtheria ', ' HIV/AIDS', 'GDP', 'Population',\n",
      "       ' thinness  1-19 years', ' thinness 5-9 years',\n",
      "       'Income composition of resources', 'Schooling'],\n",
      "      dtype='object')\n",
      "          Country  Year      Status  Life expectancy   Adult Mortality  \\\n",
      "0     Afghanistan  2015  Developing              65.0            263.0   \n",
      "1     Afghanistan  2014  Developing              59.9            271.0   \n",
      "2     Afghanistan  2013  Developing              59.9            268.0   \n",
      "3     Afghanistan  2012  Developing              59.5            272.0   \n",
      "4     Afghanistan  2011  Developing              59.2            275.0   \n",
      "...           ...   ...         ...               ...              ...   \n",
      "2933     Zimbabwe  2004  Developing              44.3            723.0   \n",
      "2934     Zimbabwe  2003  Developing              44.5            715.0   \n",
      "2935     Zimbabwe  2002  Developing              44.8             73.0   \n",
      "2936     Zimbabwe  2001  Developing              45.3            686.0   \n",
      "2937     Zimbabwe  2000  Developing              46.0            665.0   \n",
      "\n",
      "      infant deaths  Alcohol  percentage expenditure  Hepatitis B  Measles   \\\n",
      "0                62     0.01               71.279624         65.0      1154   \n",
      "1                64     0.01               73.523582         62.0       492   \n",
      "2                66     0.01               73.219243         64.0       430   \n",
      "3                69     0.01               78.184215         67.0      2787   \n",
      "4                71     0.01                7.097109         68.0      3013   \n",
      "...             ...      ...                     ...          ...       ...   \n",
      "2933             27     4.36                0.000000         68.0        31   \n",
      "2934             26     4.06                0.000000          7.0       998   \n",
      "2935             25     4.43                0.000000         73.0       304   \n",
      "2936             25     1.72                0.000000         76.0       529   \n",
      "2937             24     1.68                0.000000         79.0      1483   \n",
      "\n",
      "      ...  Polio  Total expenditure  Diphtheria    HIV/AIDS         GDP  \\\n",
      "0     ...    6.0               8.16         65.0        0.1  584.259210   \n",
      "1     ...   58.0               8.18         62.0        0.1  612.696514   \n",
      "2     ...   62.0               8.13         64.0        0.1  631.744976   \n",
      "3     ...   67.0               8.52         67.0        0.1  669.959000   \n",
      "4     ...   68.0               7.87         68.0        0.1   63.537231   \n",
      "...   ...    ...                ...          ...        ...         ...   \n",
      "2933  ...   67.0               7.13         65.0       33.6  454.366654   \n",
      "2934  ...    7.0               6.52         68.0       36.7  453.351155   \n",
      "2935  ...   73.0               6.53         71.0       39.8   57.348340   \n",
      "2936  ...   76.0               6.16         75.0       42.1  548.587312   \n",
      "2937  ...   78.0               7.10         78.0       43.5  547.358878   \n",
      "\n",
      "      Population   thinness  1-19 years   thinness 5-9 years  \\\n",
      "0     33736494.0                   17.2                 17.3   \n",
      "1       327582.0                   17.5                 17.5   \n",
      "2     31731688.0                   17.7                 17.7   \n",
      "3      3696958.0                   17.9                 18.0   \n",
      "4      2978599.0                   18.2                 18.2   \n",
      "...          ...                    ...                  ...   \n",
      "2933  12777511.0                    9.4                  9.4   \n",
      "2934  12633897.0                    9.8                  9.9   \n",
      "2935    125525.0                    1.2                  1.3   \n",
      "2936  12366165.0                    1.6                  1.7   \n",
      "2937  12222251.0                   11.0                 11.2   \n",
      "\n",
      "      Income composition of resources  Schooling  \n",
      "0                               0.479       10.1  \n",
      "1                               0.476       10.0  \n",
      "2                               0.470        9.9  \n",
      "3                               0.463        9.8  \n",
      "4                               0.454        9.5  \n",
      "...                               ...        ...  \n",
      "2933                            0.407        9.2  \n",
      "2934                            0.418        9.5  \n",
      "2935                            0.427       10.0  \n",
      "2936                            0.427        9.8  \n",
      "2937                            0.434        9.8  \n",
      "\n",
      "[2938 rows x 22 columns]\n"
     ]
    }
   ],
   "source": [
    "# load data\n",
    "Data = pd.read_csv(\"Life Expectancy Data.csv\")\n",
    "cols = Data.columns\n",
    "print(Data.columns)\n",
    "print(Data)"
   ]
  },
  {
   "cell_type": "code",
   "execution_count": 3,
   "metadata": {},
   "outputs": [
    {
     "data": {
      "text/plain": [
       "Country                            0.000000\n",
       "Year                               0.000000\n",
       "Status                             0.000000\n",
       "Life expectancy                    0.003404\n",
       "Adult Mortality                    0.003404\n",
       "infant deaths                      0.000000\n",
       "Alcohol                            0.066031\n",
       "percentage expenditure             0.000000\n",
       "Hepatitis B                        0.188223\n",
       "Measles                            0.000000\n",
       " BMI                               0.011572\n",
       "under-five deaths                  0.000000\n",
       "Polio                              0.006467\n",
       "Total expenditure                  0.076923\n",
       "Diphtheria                         0.006467\n",
       " HIV/AIDS                          0.000000\n",
       "GDP                                0.152485\n",
       "Population                         0.221920\n",
       " thinness  1-19 years              0.011572\n",
       " thinness 5-9 years                0.011572\n",
       "Income composition of resources    0.056841\n",
       "Schooling                          0.055480\n",
       "dtype: float64"
      ]
     },
     "execution_count": 3,
     "metadata": {},
     "output_type": "execute_result"
    }
   ],
   "source": [
    "# Find the percentage of None data for each colume\n",
    "Data.isna().sum()/len(Data)"
   ]
  },
  {
   "cell_type": "code",
   "execution_count": 4,
   "metadata": {},
   "outputs": [
    {
     "name": "stdout",
     "output_type": "stream",
     "text": [
      "Index(['Country', 'Year', 'Status', 'Life expectancy ', 'Adult Mortality',\n",
      "       'infant deaths', 'percentage expenditure', 'Measles ', ' BMI ',\n",
      "       'under-five deaths ', 'Polio', 'Diphtheria ', ' HIV/AIDS',\n",
      "       ' thinness  1-19 years', ' thinness 5-9 years'],\n",
      "      dtype='object')\n",
      " BMI \n",
      "before : 2928\n",
      "after : 2896\n",
      "Polio\n",
      "before : 2896\n",
      "after : 2888\n"
     ]
    }
   ],
   "source": [
    "# Drop rows that has no \"live expectancy\" column since it is just 0.003404\n",
    "Data = Data[~Data[\"Life expectancy \"].isna()]\n",
    "\n",
    "# Drop rows that are missing less than 5% of data \n",
    "non_perc = (Data.isna().sum()/len(Data)).values\n",
    "less5Cols = non_perc < 0.05\n",
    "print(cols[less5Cols])\n",
    "for col in cols[less5Cols]:\n",
    "    if Data[col].isna().sum()/len(Data) > 1e-3:\n",
    "        print(col)\n",
    "        print(\"before :\", len(Data))\n",
    "        Data = Data[~Data[col].isna()]\n",
    "        print(\"after :\",len(Data))   "
   ]
  },
  {
   "cell_type": "code",
   "execution_count": 5,
   "metadata": {},
   "outputs": [
    {
     "name": "stdout",
     "output_type": "stream",
     "text": [
      "\n",
      "After droping\n",
      "Country                            0.000000\n",
      "Year                               0.000000\n",
      "Status                             0.000000\n",
      "Life expectancy                    0.000000\n",
      "Adult Mortality                    0.000000\n",
      "infant deaths                      0.000000\n",
      "Alcohol                            0.060596\n",
      "percentage expenditure             0.000000\n",
      "Hepatitis B                        0.181787\n",
      "Measles                            0.000000\n",
      " BMI                               0.000000\n",
      "under-five deaths                  0.000000\n",
      "Polio                              0.000000\n",
      "Total expenditure                  0.073407\n",
      "Diphtheria                         0.000000\n",
      " HIV/AIDS                          0.000000\n",
      "GDP                                0.150623\n",
      "Population                         0.222992\n",
      " thinness  1-19 years              0.000000\n",
      " thinness 5-9 years                0.000000\n",
      "Income composition of resources    0.055402\n",
      "Schooling                          0.055402\n",
      "dtype: float64\n"
     ]
    }
   ],
   "source": [
    "print()\n",
    "print(\"After droping\")\n",
    "print(Data.isna().sum()/len(Data)) "
   ]
  },
  {
   "cell_type": "code",
   "execution_count": 6,
   "metadata": {},
   "outputs": [
    {
     "name": "stdout",
     "output_type": "stream",
     "text": [
      "0       False\n",
      "1       False\n",
      "2       False\n",
      "3       False\n",
      "4       False\n",
      "        ...  \n",
      "2933    False\n",
      "2934    False\n",
      "2935    False\n",
      "2936    False\n",
      "2937    False\n",
      "Name: Status, Length: 2888, dtype: bool\n"
     ]
    },
    {
     "name": "stderr",
     "output_type": "stream",
     "text": [
      "/tmp/ipykernel_8161/2042310883.py:3: FutureWarning: Downcasting behavior in `replace` is deprecated and will be removed in a future version. To retain the old behavior, explicitly call `result.infer_objects(copy=False)`. To opt-in to the future behavior, set `pd.set_option('future.no_silent_downcasting', True)`\n",
      "  Data = Data.replace(\"Developed\", True)\n"
     ]
    }
   ],
   "source": [
    "# replace Developing , Developed in boolean\n",
    "Data = Data.replace(\"Developing\", False)\n",
    "Data = Data.replace(\"Developed\", True)\n",
    "print(Data[\"Status\"])"
   ]
  },
  {
   "cell_type": "code",
   "execution_count": 7,
   "metadata": {},
   "outputs": [
    {
     "name": "stdout",
     "output_type": "stream",
     "text": [
      "Index(['Alcohol', 'Hepatitis B', 'Total expenditure', 'GDP', 'Population',\n",
      "       'Income composition of resources', 'Schooling'],\n",
      "      dtype='object')\n",
      "Alcohol\n",
      "col_mean = 4.6438\n",
      "before :\n",
      "32   NaN\n",
      "48   NaN\n",
      "Name: Alcohol, dtype: float64\n",
      "after :\n",
      "32    4.6438\n",
      "48    4.6438\n",
      "Name: Alcohol, dtype: float64\n",
      "\n",
      "Hepatitis B\n",
      "col_mean = 81.022\n",
      "before :\n",
      "44   NaN\n",
      "45   NaN\n",
      "Name: Hepatitis B, dtype: float64\n",
      "after :\n",
      "44    81.022\n",
      "45    81.022\n",
      "Name: Hepatitis B, dtype: float64\n",
      "\n",
      "Total expenditure\n",
      "col_mean = 5.9316\n",
      "before :\n",
      "32   NaN\n",
      "48   NaN\n",
      "Name: Total expenditure, dtype: float64\n",
      "after :\n",
      "32    5.9316\n",
      "48    5.9316\n",
      "Name: Total expenditure, dtype: float64\n",
      "\n",
      "GDP\n",
      "col_mean = 7576.8312\n",
      "before :\n",
      "160   NaN\n",
      "161   NaN\n",
      "Name: GDP, dtype: float64\n",
      "after :\n",
      "160    7576.8312\n",
      "161    7576.8312\n",
      "Name: GDP, dtype: float64\n",
      "\n",
      "Population\n",
      "col_mean = 12835335.4039\n",
      "before :\n",
      "64   NaN\n",
      "65   NaN\n",
      "Name: Population, dtype: float64\n",
      "after :\n",
      "64    1.283534e+07\n",
      "65    1.283534e+07\n",
      "Name: Population, dtype: float64\n",
      "\n",
      "Income composition of resources\n",
      "col_mean = 0.6325\n",
      "before :\n",
      "432   NaN\n",
      "433   NaN\n",
      "Name: Income composition of resources, dtype: float64\n",
      "after :\n",
      "432    0.6325\n",
      "433    0.6325\n",
      "Name: Income composition of resources, dtype: float64\n",
      "\n",
      "Schooling\n",
      "col_mean = 12.1163\n",
      "before :\n",
      "432   NaN\n",
      "433   NaN\n",
      "Name: Schooling, dtype: float64\n",
      "after :\n",
      "432    12.1163\n",
      "433    12.1163\n",
      "Name: Schooling, dtype: float64\n",
      "\n"
     ]
    }
   ],
   "source": [
    "# fill mean of each column on missing values\n",
    "non_perc = (Data.isna().sum()/len(Data)).values\n",
    "ColsWithNone = non_perc > 0\n",
    "print(cols[ColsWithNone])\n",
    "for col in cols[ColsWithNone]:\n",
    "    col_ave = round((Data[col][~Data[col].isna()]).mean(),4)\n",
    "    indx = Data[col].isna()\n",
    "    print(col)\n",
    "    print(\"col_mean =\", col_ave)\n",
    "    print(\"before :\", Data[col][indx].head(2), sep=\"\\n\")\n",
    "    Data[col] = Data[col].fillna(col_ave)\n",
    "    print(\"after :\", Data[col][indx].head(2), sep=\"\\n\") \n",
    "    print()"
   ]
  },
  {
   "cell_type": "code",
   "execution_count": 8,
   "metadata": {},
   "outputs": [],
   "source": [
    "# save the cleaned data\n",
    "Data.to_csv(\"Life Expectancy Data Cleaned.csv\")"
   ]
  },
  {
   "cell_type": "code",
   "execution_count": 12,
   "metadata": {},
   "outputs": [
    {
     "name": "stdout",
     "output_type": "stream",
     "text": [
      "[2015 2014 2013 2012 2011 2010 2009 2008 2007 2006 2005 2004 2003 2002\n",
      " 2001 2000]\n"
     ]
    }
   ],
   "source": [
    "print(Data[\"Year\"].unique())"
   ]
  },
  {
   "cell_type": "code",
   "execution_count": 37,
   "metadata": {},
   "outputs": [
    {
     "name": "stdout",
     "output_type": "stream",
     "text": [
      "['Afghanistan' 'Albania' 'Algeria' 'Angola' 'Antigua and Barbuda'\n",
      " 'Argentina' 'Armenia' 'Australia' 'Austria' 'Azerbaijan' 'Bahamas'\n",
      " 'Bahrain' 'Bangladesh' 'Barbados' 'Belarus' 'Belgium' 'Belize' 'Benin'\n",
      " 'Bhutan' 'Bolivia (Plurinational State of)' 'Bosnia and Herzegovina'\n",
      " 'Botswana' 'Brazil' 'Brunei Darussalam' 'Bulgaria' 'Burkina Faso'\n",
      " 'Burundi' \"Côte d'Ivoire\" 'Cabo Verde' 'Cambodia' 'Cameroon' 'Canada'\n",
      " 'Central African Republic' 'Chad' 'Chile' 'China' 'Colombia' 'Comoros'\n",
      " 'Congo' 'Costa Rica' 'Croatia' 'Cuba' 'Cyprus' 'Czechia'\n",
      " \"Democratic People's Republic of Korea\"\n",
      " 'Democratic Republic of the Congo' 'Denmark' 'Djibouti'\n",
      " 'Dominican Republic' 'Ecuador' 'Egypt' 'El Salvador' 'Equatorial Guinea'\n",
      " 'Eritrea' 'Estonia' 'Ethiopia' 'Fiji' 'Finland' 'France' 'Gabon' 'Gambia'\n",
      " 'Georgia' 'Germany' 'Ghana' 'Greece' 'Grenada' 'Guatemala' 'Guinea'\n",
      " 'Guinea-Bissau' 'Guyana' 'Haiti' 'Honduras' 'Hungary' 'Iceland' 'India'\n",
      " 'Indonesia' 'Iran (Islamic Republic of)' 'Iraq' 'Ireland' 'Israel'\n",
      " 'Italy' 'Jamaica' 'Japan' 'Jordan' 'Kazakhstan' 'Kenya' 'Kiribati'\n",
      " 'Kuwait' 'Kyrgyzstan' \"Lao People's Democratic Republic\" 'Latvia'\n",
      " 'Lebanon' 'Lesotho' 'Liberia' 'Libya' 'Lithuania' 'Luxembourg'\n",
      " 'Madagascar' 'Malawi' 'Malaysia' 'Maldives' 'Mali' 'Malta' 'Mauritania'\n",
      " 'Mauritius' 'Mexico' 'Micronesia (Federated States of)' 'Mongolia'\n",
      " 'Montenegro' 'Morocco' 'Mozambique' 'Myanmar' 'Namibia' 'Nepal'\n",
      " 'Netherlands' 'New Zealand' 'Nicaragua' 'Niger' 'Nigeria' 'Norway' 'Oman'\n",
      " 'Pakistan' 'Panama' 'Papua New Guinea' 'Paraguay' 'Peru' 'Philippines'\n",
      " 'Poland' 'Portugal' 'Qatar' 'Republic of Korea' 'Republic of Moldova'\n",
      " 'Romania' 'Russian Federation' 'Rwanda' 'Saint Lucia'\n",
      " 'Saint Vincent and the Grenadines' 'Samoa' 'Sao Tome and Principe'\n",
      " 'Saudi Arabia' 'Senegal' 'Serbia' 'Seychelles' 'Sierra Leone' 'Singapore'\n",
      " 'Slovakia' 'Slovenia' 'Solomon Islands' 'Somalia' 'South Africa' 'Spain'\n",
      " 'Sri Lanka' 'Suriname' 'Swaziland' 'Sweden' 'Switzerland'\n",
      " 'Syrian Arab Republic' 'Tajikistan' 'Thailand'\n",
      " 'The former Yugoslav republic of Macedonia' 'Timor-Leste' 'Togo' 'Tonga'\n",
      " 'Trinidad and Tobago' 'Tunisia' 'Turkey' 'Turkmenistan' 'Uganda'\n",
      " 'Ukraine' 'United Arab Emirates'\n",
      " 'United Kingdom of Great Britain and Northern Ireland'\n",
      " 'United Republic of Tanzania' 'United States of America' 'Uruguay'\n",
      " 'Uzbekistan' 'Vanuatu' 'Venezuela (Bolivarian Republic of)' 'Viet Nam'\n",
      " 'Yemen' 'Zambia' 'Zimbabwe']\n"
     ]
    }
   ],
   "source": [
    "print(Data[\"Country\"].unique())"
   ]
  },
  {
   "cell_type": "code",
   "execution_count": 46,
   "metadata": {},
   "outputs": [
    {
     "name": "stdout",
     "output_type": "stream",
     "text": [
      "71\n",
      "[2003. 2004. 2005. 2006. 2007. 2008. 2009. 2010. 2011. 2012. 2013. 2014.\n",
      " 2015.]\n"
     ]
    }
   ],
   "source": [
    "np.linspace(2000, 2015, 16)\n",
    "Universal_Countries = [\"Albania\", \"Algeria\", \"Argentina\", \"Australia\", \"Austria\", \"Bahamas\", \"Bahrain\", \n",
    "                       \"Belgium\", \"Bhutan\", \"Botswana\", \"Brazil\", \"Brunei Darussalam\", \"Bulgaria\", \"Burkina Faso\", \n",
    "                       \"Canada\", \"China\", \"Colombia\", \"Costa Rica\", \"Croatia\", \"Cuba\", \"Cyprus\", \"Czechia\", \n",
    "                       \"Denmark\", \"Finland\", \"France\", \"Georgia\", \"Germany\", \"Ghana\", \"Greece\",\n",
    "                       \"Iceland\", \"India\", \"Indonesia\", \"Israel\", \"Italy\", \"Japan\", \"Kuwait\", \n",
    "                       \"Luxembourg\", \"Malaysia\", \"Maldives\", \"Mauritius\", \"Mexico\",\n",
    "                       \"Morocco\", \"Netherlands\", \"New Zealand\", \"Democratic People's Republic of Korea\", \"Norway\", \"Pakistan\", \"Peru\", \n",
    "                       \"Philippines\", \"Portugal\", \"Romania\", \"Russian Federation\", \"Rwanda\", \"Saudi Arabia\", \"Serbia\",\n",
    "                       \"Seychelles\", \"Singapore\", \"Slovenia\", \"South Africa\", \"Republic of Korea\", \"Spain\", \"Sri Lanka\",\n",
    "                       \"Suriname\", \"Sweden\", \"Switzerland\", \"Thailand\", \"Trinidad and Tobago\", \"Tunisia\",\n",
    "                       \"Turkey\", \"United Arab Emirates\", \"United Kingdom of Great Britain and Northern Ireland\"]\n",
    "print(len(Universal_Countries))\n",
    "georgia = [2013, 2014, 2015]\n",
    "ghana = np.linspace(2003, 2015, 13)\n",
    "indonesia = [2014, 2015]\n",
    "suriname = [2014, 2015]\n",
    "print(ghana)"
   ]
  },
  {
   "cell_type": "code",
   "execution_count": 47,
   "metadata": {},
   "outputs": [
    {
     "name": "stdout",
     "output_type": "stream",
     "text": [
      "[]\n"
     ]
    }
   ],
   "source": [
    "missing = []\n",
    "countries = np.array(Data[\"Country\"].unique())\n",
    "for i in range(len(Universal_Countries)):\n",
    "    same = False\n",
    "    for j in range(len(countries)):\n",
    "        if Universal_Countries[i] == countries[j]:\n",
    "            same = True\n",
    "    if same == False:\n",
    "        missing.append(Universal_Countries[i])"
   ]
  },
  {
   "cell_type": "code",
   "execution_count": 48,
   "metadata": {},
   "outputs": [],
   "source": [
    "Data[\"Universal_Insurance\"] = False"
   ]
  },
  {
   "cell_type": "code",
   "execution_count": 49,
   "metadata": {},
   "outputs": [
    {
     "name": "stdout",
     "output_type": "stream",
     "text": [
      "          Country  Year  Status  Life expectancy   Adult Mortality  \\\n",
      "0     Afghanistan  2015   False              65.0            263.0   \n",
      "1     Afghanistan  2014   False              59.9            271.0   \n",
      "2     Afghanistan  2013   False              59.9            268.0   \n",
      "3     Afghanistan  2012   False              59.5            272.0   \n",
      "4     Afghanistan  2011   False              59.2            275.0   \n",
      "...           ...   ...     ...               ...              ...   \n",
      "2933     Zimbabwe  2004   False              44.3            723.0   \n",
      "2934     Zimbabwe  2003   False              44.5            715.0   \n",
      "2935     Zimbabwe  2002   False              44.8             73.0   \n",
      "2936     Zimbabwe  2001   False              45.3            686.0   \n",
      "2937     Zimbabwe  2000   False              46.0            665.0   \n",
      "\n",
      "      infant deaths  Alcohol  percentage expenditure  Hepatitis B  Measles   \\\n",
      "0                62     0.01               71.279624         65.0      1154   \n",
      "1                64     0.01               73.523582         62.0       492   \n",
      "2                66     0.01               73.219243         64.0       430   \n",
      "3                69     0.01               78.184215         67.0      2787   \n",
      "4                71     0.01                7.097109         68.0      3013   \n",
      "...             ...      ...                     ...          ...       ...   \n",
      "2933             27     4.36                0.000000         68.0        31   \n",
      "2934             26     4.06                0.000000          7.0       998   \n",
      "2935             25     4.43                0.000000         73.0       304   \n",
      "2936             25     1.72                0.000000         76.0       529   \n",
      "2937             24     1.68                0.000000         79.0      1483   \n",
      "\n",
      "      ...  Total expenditure  Diphtheria    HIV/AIDS         GDP  Population  \\\n",
      "0     ...               8.16         65.0        0.1  584.259210  33736494.0   \n",
      "1     ...               8.18         62.0        0.1  612.696514    327582.0   \n",
      "2     ...               8.13         64.0        0.1  631.744976  31731688.0   \n",
      "3     ...               8.52         67.0        0.1  669.959000   3696958.0   \n",
      "4     ...               7.87         68.0        0.1   63.537231   2978599.0   \n",
      "...   ...                ...          ...        ...         ...         ...   \n",
      "2933  ...               7.13         65.0       33.6  454.366654  12777511.0   \n",
      "2934  ...               6.52         68.0       36.7  453.351155  12633897.0   \n",
      "2935  ...               6.53         71.0       39.8   57.348340    125525.0   \n",
      "2936  ...               6.16         75.0       42.1  548.587312  12366165.0   \n",
      "2937  ...               7.10         78.0       43.5  547.358878  12222251.0   \n",
      "\n",
      "       thinness  1-19 years   thinness 5-9 years  \\\n",
      "0                      17.2                 17.3   \n",
      "1                      17.5                 17.5   \n",
      "2                      17.7                 17.7   \n",
      "3                      17.9                 18.0   \n",
      "4                      18.2                 18.2   \n",
      "...                     ...                  ...   \n",
      "2933                    9.4                  9.4   \n",
      "2934                    9.8                  9.9   \n",
      "2935                    1.2                  1.3   \n",
      "2936                    1.6                  1.7   \n",
      "2937                   11.0                 11.2   \n",
      "\n",
      "      Income composition of resources  Schooling  Universal_Insurance  \n",
      "0                               0.479       10.1                False  \n",
      "1                               0.476       10.0                False  \n",
      "2                               0.470        9.9                False  \n",
      "3                               0.463        9.8                False  \n",
      "4                               0.454        9.5                False  \n",
      "...                               ...        ...                  ...  \n",
      "2933                            0.407        9.2                False  \n",
      "2934                            0.418        9.5                False  \n",
      "2935                            0.427       10.0                False  \n",
      "2936                            0.427        9.8                False  \n",
      "2937                            0.434        9.8                False  \n",
      "\n",
      "[2888 rows x 23 columns]\n"
     ]
    }
   ],
   "source": [
    "print(Data)"
   ]
  },
  {
   "cell_type": "code",
   "execution_count": 62,
   "metadata": {},
   "outputs": [
    {
     "ename": "ValueError",
     "evalue": "The truth value of a Series is ambiguous. Use a.empty, a.bool(), a.item(), a.any() or a.all().",
     "output_type": "error",
     "traceback": [
      "\u001b[0;31m---------------------------------------------------------------------------\u001b[0m",
      "\u001b[0;31mValueError\u001b[0m                                Traceback (most recent call last)",
      "\u001b[0;32m/tmp/ipykernel_8161/1837760325.py\u001b[0m in \u001b[0;36m?\u001b[0;34m()\u001b[0m\n\u001b[0;32m----> 1\u001b[0;31m \u001b[0mprint\u001b[0m\u001b[0;34m(\u001b[0m\u001b[0mData\u001b[0m\u001b[0;34m[\u001b[0m\u001b[0mnp\u001b[0m\u001b[0;34m.\u001b[0m\u001b[0mwhere\u001b[0m\u001b[0;34m(\u001b[0m\u001b[0mData\u001b[0m\u001b[0;34m[\u001b[0m\u001b[0;34m\"Country\"\u001b[0m\u001b[0;34m]\u001b[0m \u001b[0;32min\u001b[0m \u001b[0mUniversal_Countries\u001b[0m\u001b[0;34m)\u001b[0m\u001b[0;34m]\u001b[0m\u001b[0;34m)\u001b[0m\u001b[0;34m\u001b[0m\u001b[0;34m\u001b[0m\u001b[0m\n\u001b[0m",
      "\u001b[0;32m~/anaconda3/envs/acme_env/lib/python3.12/site-packages/pandas/core/generic.py\u001b[0m in \u001b[0;36m?\u001b[0;34m(self)\u001b[0m\n\u001b[1;32m   1575\u001b[0m     \u001b[0;34m@\u001b[0m\u001b[0mfinal\u001b[0m\u001b[0;34m\u001b[0m\u001b[0;34m\u001b[0m\u001b[0m\n\u001b[1;32m   1576\u001b[0m     \u001b[0;32mdef\u001b[0m \u001b[0m__nonzero__\u001b[0m\u001b[0;34m(\u001b[0m\u001b[0mself\u001b[0m\u001b[0;34m)\u001b[0m \u001b[0;34m->\u001b[0m \u001b[0mNoReturn\u001b[0m\u001b[0;34m:\u001b[0m\u001b[0;34m\u001b[0m\u001b[0;34m\u001b[0m\u001b[0m\n\u001b[0;32m-> 1577\u001b[0;31m         raise ValueError(\n\u001b[0m\u001b[1;32m   1578\u001b[0m             \u001b[0;34mf\"\u001b[0m\u001b[0;34mThe truth value of a \u001b[0m\u001b[0;34m{\u001b[0m\u001b[0mtype\u001b[0m\u001b[0;34m(\u001b[0m\u001b[0mself\u001b[0m\u001b[0;34m)\u001b[0m\u001b[0;34m.\u001b[0m\u001b[0m__name__\u001b[0m\u001b[0;34m}\u001b[0m\u001b[0;34m is ambiguous. \u001b[0m\u001b[0;34m\"\u001b[0m\u001b[0;34m\u001b[0m\u001b[0;34m\u001b[0m\u001b[0m\n\u001b[1;32m   1579\u001b[0m             \u001b[0;34m\"Use a.empty, a.bool(), a.item(), a.any() or a.all().\"\u001b[0m\u001b[0;34m\u001b[0m\u001b[0;34m\u001b[0m\u001b[0m\n\u001b[1;32m   1580\u001b[0m         \u001b[0;34m)\u001b[0m\u001b[0;34m\u001b[0m\u001b[0;34m\u001b[0m\u001b[0m\n",
      "\u001b[0;31mValueError\u001b[0m: The truth value of a Series is ambiguous. Use a.empty, a.bool(), a.item(), a.any() or a.all()."
     ]
    }
   ],
   "source": [
    "print(Data[np.where(Data[\"Country\"] in Universal_Countries)])"
   ]
  },
  {
   "cell_type": "code",
   "execution_count": null,
   "metadata": {},
   "outputs": [],
   "source": []
  }
 ],
 "metadata": {
  "kernelspec": {
   "display_name": "Python 3 (ipykernel)",
   "language": "python",
   "name": "python3"
  },
  "language_info": {
   "codemirror_mode": {
    "name": "ipython",
    "version": 3
   },
   "file_extension": ".py",
   "mimetype": "text/x-python",
   "name": "python",
   "nbconvert_exporter": "python",
   "pygments_lexer": "ipython3",
   "version": "3.12.3"
  }
 },
 "nbformat": 4,
 "nbformat_minor": 4
}
