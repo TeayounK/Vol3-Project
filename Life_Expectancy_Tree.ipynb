{
 "cells": [
  {
   "cell_type": "code",
   "execution_count": 4,
   "metadata": {},
   "outputs": [],
   "source": [
    "import numpy as np\n",
    "import pandas as pd\n",
    "# from sklearn.ensemble import RandomForestClassifier"
   ]
  },
  {
   "cell_type": "code",
   "execution_count": null,
   "metadata": {},
   "outputs": [
    {
     "name": "stdout",
     "output_type": "stream",
     "text": [
      "139\n",
      "      Unnamed: 0 Country          Region  Year  Infant_deaths  \\\n",
      "2423        2423  Sweden  European Union  2004            3.1   \n",
      "\n",
      "      Under_five_deaths  Adult_mortality  Alcohol_consumption  Hepatitis_B  \\\n",
      "2423                3.7          66.1935                 6.51           60   \n",
      "\n",
      "      Measles  ...  Incidents_HIV  GDP_per_capita  Population_mln  \\\n",
      "2423       95  ...           0.08           44891            8.99   \n",
      "\n",
      "      Thinness_ten_nineteen_years  Thinness_five_nine_years  Schooling  \\\n",
      "2423                          1.3                       1.3       12.3   \n",
      "\n",
      "      Economy_status_Developed  Economy_status_Developing  Life_expectancy  \\\n",
      "2423                         1                          0             80.5   \n",
      "\n",
      "      Universal_Insurance  \n",
      "2423                 True  \n",
      "\n",
      "[1 rows x 23 columns]\n"
     ]
    }
   ],
   "source": [
    "data = pd.read_csv(\"Life Expectancy Data Cleaned With Insurance.csv\")\n",
    "countries = np.unique(data['Country'])\n",
    "regions = np.unique(data[\"Region\"])\n",
    "def get_idx(country):\n",
    "    return np.where(countries == country)[0][0]\n",
    "def get_region_idx(region):\n",
    "    return np.where(regions == region)[0][0]\n",
    "\n",
    "# Replace all country names with indexes\n",
    "\n",
    "# Replace all region names with region indexes\n",
    "\n",
    "# Take out the \"Life Expectancy\" column as y\n",
    "# The rest of the data is X\n",
    "\n",
    "# Create Random forest\n",
    "# forest = RandomForestClassifier()\n",
    "# forest.fit(X,y)\n"
   ]
  }
 ],
 "metadata": {
  "kernelspec": {
   "display_name": "Python 3",
   "language": "python",
   "name": "python3"
  },
  "language_info": {
   "codemirror_mode": {
    "name": "ipython",
    "version": 3
   },
   "file_extension": ".py",
   "mimetype": "text/x-python",
   "name": "python",
   "nbconvert_exporter": "python",
   "pygments_lexer": "ipython3",
   "version": "3.11.1"
  }
 },
 "nbformat": 4,
 "nbformat_minor": 2
}
