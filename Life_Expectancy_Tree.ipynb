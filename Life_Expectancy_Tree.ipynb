{
 "cells": [
  {
   "cell_type": "code",
   "execution_count": 1,
   "metadata": {},
   "outputs": [],
   "source": [
    "import numpy as np\n",
    "import pandas as pd\n",
    "from sklearn.ensemble import RandomForestClassifier\n",
    "from sklearn.metrics import accuracy_score"
   ]
  },
  {
   "cell_type": "code",
   "execution_count": 41,
   "metadata": {},
   "outputs": [
    {
     "name": "stdout",
     "output_type": "stream",
     "text": [
      "Predicted percent above median in test data: 0.5034883720930232\n",
      "Accuracy score: 0.9813953488372092\n"
     ]
    }
   ],
   "source": [
    "# Load in data\n",
    "data = pd.read_csv(\"Life Expectancy Data Cleaned With Insurance.csv\")\n",
    "# Take out the \"Life Expectancy\" column as y\n",
    "ys = data[\"Life_expectancy\"].values\n",
    "# Make this column boolean based on whether each value is higher or lower than the median.\n",
    "is_high = lambda y: y >= np.median(ys)\n",
    "y = np.array([is_high(val) for val in ys])\n",
    "# The rest of the columns we decided to work with become X\n",
    "X = data.drop([\"Life_expectancy\",\"Year\",\"Country\",\"Region\", \"Infant_deaths\",\"Under_five_deaths\", \"Adult_mortality\", \"GDP_per_capita\", \"Economy_status_Developed\", \"Economy_status_Developing\"], axis=1).values\n",
    "\n",
    "# Split testing and training data through a pseudo-shuffle. Keeping the original order for X and y is useful later.\n",
    "n = int(0.7*len(y))\n",
    "mask = np.arange(len(y))\n",
    "np.random.shuffle(mask)\n",
    "X_train = X[mask[:n]]\n",
    "y_train = y[mask[:n]]\n",
    "X_test = X[mask[n:]]\n",
    "y_test = y[mask[n:]]\n",
    "\n",
    "# Create and fit random forest\n",
    "forest = RandomForestClassifier()\n",
    "forest.fit(X_train,y_train)\n",
    "\n",
    "# Predict test data\n",
    "y_hat = forest.predict(X_test)\n",
    "# Sanity check: are about half of the values above the median?\n",
    "print(\"Predicted percent above median in test data:\",np.mean(y_hat))\n",
    "# Find the accuracy\n",
    "A = accuracy_score(y_test, y_hat)\n",
    "print(\"Accuracy score:\",A)"
   ]
  },
  {
   "cell_type": "code",
   "execution_count": 42,
   "metadata": {},
   "outputs": [
    {
     "name": "stdout",
     "output_type": "stream",
     "text": [
      "Percent of countries above the old median if they all switched to universal healthcare:\n",
      " 0.6312849162011173\n"
     ]
    }
   ],
   "source": [
    "# Now change all of the \"Universal Heathcare\" values to be true and pass in the most recent year\n",
    "mask = data[\"Year\"] == 2015\n",
    "newest_data = data[mask]\n",
    "newest_data.loc[:,'Universal_insurance'] = True\n",
    "X_UH = newest_data.drop([\"Life_expectancy\",\"Year\",\"Country\",\"Region\", \"Infant_deaths\",\"Under_five_deaths\", \"Adult_mortality\", \"GDP_per_capita\", \"Economy_status_Developed\", \"Economy_status_Developing\"], axis=1).values\n",
    "y_UH = forest.predict(X_UH)\n",
    "print(\"Percent of countries above the old median if they all switched to universal healthcare:\\n\",np.mean(y_UH))"
   ]
  },
  {
   "cell_type": "code",
   "execution_count": 43,
   "metadata": {},
   "outputs": [
    {
     "name": "stdout",
     "output_type": "stream",
     "text": [
      "Percent of countries above the old median if they all stopped universal healthcare:\n",
      " 0.547486033519553\n"
     ]
    }
   ],
   "source": [
    "# Do the same but say they all choose against universal healthcare\n",
    "newest_data.loc[:,'Universal_insurance'] = False\n",
    "X_NUH = newest_data.drop([\"Life_expectancy\",\"Year\",\"Country\",\"Region\", \"Infant_deaths\",\"Under_five_deaths\", \"Adult_mortality\", \"GDP_per_capita\", \"Economy_status_Developed\", \"Economy_status_Developing\"], axis=1).values\n",
    "y_NUH = forest.predict(X_NUH)\n",
    "print(\"Percent of countries above the old median if they all stopped universal healthcare:\\n\",np.mean(y_NUH))"
   ]
  },
  {
   "cell_type": "code",
   "execution_count": 44,
   "metadata": {},
   "outputs": [
    {
     "name": "stdout",
     "output_type": "stream",
     "text": [
      "Predicted percent of countries above the old median in the most recent year:\n",
      " 0.5698324022346368\n",
      "Actual:\n",
      " 0.5754189944134078\n"
     ]
    }
   ],
   "source": [
    "# The median is higher in the last year! See how well our model predicts this.\n",
    "mask = data[\"Year\"] == 2015\n",
    "newest_data = data[mask]\n",
    "X_N = newest_data.drop([\"Life_expectancy\",\"Year\",\"Country\",\"Region\", \"Infant_deaths\",\"Under_five_deaths\", \"Adult_mortality\", \"GDP_per_capita\", \"Economy_status_Developed\", \"Economy_status_Developing\"], axis=1).values\n",
    "y_N = forest.predict(X_N)\n",
    "print(\"Predicted percent of countries above the old median in the most recent year:\\n\",np.mean(y_N))\n",
    "# y itself deosn't get shuffled\n",
    "print(\"Actual:\\n\",np.mean(y[mask]))"
   ]
  }
 ],
 "metadata": {
  "kernelspec": {
   "display_name": "Python 3 (ipykernel)",
   "language": "python",
   "name": "python3"
  },
  "language_info": {
   "codemirror_mode": {
    "name": "ipython",
    "version": 3
   },
   "file_extension": ".py",
   "mimetype": "text/x-python",
   "name": "python",
   "nbconvert_exporter": "python",
   "pygments_lexer": "ipython3",
   "version": "3.11.1"
  }
 },
 "nbformat": 4,
 "nbformat_minor": 4
}
